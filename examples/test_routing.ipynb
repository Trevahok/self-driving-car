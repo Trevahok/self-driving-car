{
 "cells": [
  {
   "cell_type": "code",
   "execution_count": 1,
   "metadata": {},
   "outputs": [],
   "source": [
    "import numpy as np"
   ]
  },
  {
   "cell_type": "code",
   "execution_count": 2,
   "metadata": {},
   "outputs": [],
   "source": [
    "env = np.load(\"env.npy\")"
   ]
  },
  {
   "cell_type": "code",
   "execution_count": 5,
   "metadata": {},
   "outputs": [
    {
     "name": "stdout",
     "output_type": "stream",
     "text": [
      "0.0\n"
     ]
    }
   ],
   "source": [
    "print(env[51][51])"
   ]
  },
  {
   "cell_type": "code",
   "execution_count": 7,
   "metadata": {},
   "outputs": [],
   "source": [
    "def heuristic(a, b):\n",
    "    #Calculate the heuristic value between two points (Manhattan Dis)\n",
    "    return abs(a[0] - b[0]) + abs(a[1] - b[1])"
   ]
  },
  {
   "cell_type": "code",
   "execution_count": 9,
   "metadata": {},
   "outputs": [],
   "source": [
    "##Backward finding the path\n",
    "def back_tracking(end_node, path_mapping):\n",
    "    path = []\n",
    "    current = end_node\n",
    "    while current in path_mapping:\n",
    "        path.append(current)\n",
    "        current = path_mapping[current]\n",
    "    return path[::-1]"
   ]
  },
  {
   "cell_type": "code",
   "execution_count": 16,
   "metadata": {},
   "outputs": [],
   "source": [
    "def path_convert(path, start, initial_dir):\n",
    "    neighborMap = {\n",
    "        (1, 0): 0, #up\n",
    "        (-1, 0): 2, #down\n",
    "        (0, -1): 3, #left\n",
    "        (0, 1): 1, #right\n",
    "    }\n",
    "    path = [start] + path\n",
    "    directions = []\n",
    "    for i in range(len(path)):\n",
    "        if i == len(path) - 1:\n",
    "            break\n",
    "        direction = (path[i+1][0] - path[i][0], path[i+1][1] - path[i][1])\n",
    "        directions.append(neighborMap[direction])\n",
    "    \n",
    "    print(directions)\n",
    "    orders = []\n",
    "    current_dir = initial_dir\n",
    "    for dir in directions:\n",
    "        required_dir_change = (dir - current_dir)%4 ##record number of right turns needed\n",
    "        current_dir = dir\n",
    "        orders.append(required_dir_change)\n",
    "    return orders"
   ]
  },
  {
   "cell_type": "code",
   "execution_count": 11,
   "metadata": {},
   "outputs": [],
   "source": [
    "def a_star_search(env, start, end):\n",
    "\n",
    "    if env[end[0]][end[1]] == 1 or env[start[0]][start[1]] == 1:\n",
    "        raise ValueError(\"obstacle in start/end position, a*search not running\")\n",
    "        return False\n",
    "\n",
    "    left = (0, -1)\n",
    "    right = (0, 1)\n",
    "    up = (1, 0)\n",
    "    down = (-1, 0)\n",
    "\n",
    "    neighbors = [left, right, down, up]\n",
    "\n",
    "    measuredSet = set()\n",
    "    \n",
    "    nextStepMapping = {}\n",
    "    gScore = {start: 0}\n",
    "    fScore = {start: heuristic(start, end)}\n",
    "\n",
    "    toVisit = [start]\n",
    "\n",
    "    while toVisit:\n",
    "        current = min(toVisit, key=lambda x:fScore[x])\n",
    "        if current == end:\n",
    "            path = back_tracking(current, nextStepMapping)\n",
    "            return path\n",
    "        toVisit.remove(current)\n",
    "        measuredSet.add(current)\n",
    "\n",
    "        for i, j in neighbors:\n",
    "            neighborNode_x = current[0] + i\n",
    "            neighborNode_y = current[1] + j\n",
    "\n",
    "            ##Could be changed if with weighted edges (slope?)\n",
    "            node_gScore = gScore[current] + 1\n",
    "\n",
    "            if neighborNode_x < 0 or neighborNode_x >= env.shape[0]:\n",
    "                continue\n",
    "            if neighborNode_y < 0 or neighborNode_y >= env.shape[1]:\n",
    "                continue\n",
    "\n",
    "            if env[neighborNode_x][neighborNode_y] == 1:\n",
    "                ##If neighbor is obstacle\n",
    "                continue\n",
    "            \n",
    "            neighbor = (neighborNode_x, neighborNode_y)\n",
    "            if neighbor in measuredSet and node_gScore >= gScore.get(neighbor, 0):\n",
    "                continue\n",
    "\n",
    "            else:\n",
    "                nextStepMapping[neighbor] = current\n",
    "                gScore[neighbor] = node_gScore\n",
    "                fScore[neighbor] = node_gScore + heuristic(neighbor, end)\n",
    "                if neighbor not in toVisit:\n",
    "                    toVisit.append(neighbor)\n",
    "    return False"
   ]
  },
  {
   "cell_type": "code",
   "execution_count": 56,
   "metadata": {},
   "outputs": [],
   "source": [
    "grid = np.array([\n",
    "    [0, 0, 0, 0, 1],\n",
    "    [1, 1, 0, 0, 0],\n",
    "    [0, 0, 2, 1, 0],\n",
    "    [0, 1, 1, 1, 0],\n",
    "    [0, 0, 0, 0, 0]\n",
    "])"
   ]
  },
  {
   "cell_type": "code",
   "execution_count": 12,
   "metadata": {},
   "outputs": [],
   "source": [
    "path =  a_star_search(env, (50, 50), (175, 175))"
   ]
  },
  {
   "cell_type": "code",
   "execution_count": 30,
   "metadata": {},
   "outputs": [],
   "source": [
    "def env_enhancement(env):\n",
    "    env_copy = np.copy(env)\n",
    "    for x in range(len(env)):\n",
    "        for y in range(len(env[0])):\n",
    "            down = max(x - 1, 0)\n",
    "            left = max(y - 1, 0)\n",
    "            right = min(y + 1, len(env[0])-1)\n",
    "            up = min(x + 1, len(env)-1)\n",
    "            surrounding = env[down:up, left:right]\n",
    "            env_copy[x][y] = np.max(surrounding)\n",
    "    return env_copy"
   ]
  },
  {
   "cell_type": "code",
   "execution_count": 17,
   "metadata": {},
   "outputs": [
    {
     "name": "stdout",
     "output_type": "stream",
     "text": [
      "[(51, 50), (52, 50), (53, 50), (54, 50), (55, 50), (56, 50), (57, 50), (58, 50), (59, 50), (60, 50), (61, 50), (62, 50), (63, 50), (64, 50), (65, 50), (66, 50), (67, 50), (68, 50), (69, 50), (70, 50), (71, 50), (72, 50), (73, 50), (74, 50), (75, 50), (76, 50), (77, 50), (78, 50), (79, 50), (80, 50), (81, 50), (82, 50), (83, 50), (84, 50), (85, 50), (86, 50), (87, 50), (88, 50), (89, 50), (90, 50), (91, 50), (92, 50), (93, 50), (94, 50), (95, 50), (96, 50), (97, 50), (98, 50), (99, 50), (100, 50), (101, 50), (102, 50), (103, 50), (104, 50), (105, 50), (106, 50), (107, 50), (108, 50), (109, 50), (110, 50), (111, 50), (112, 50), (113, 50), (114, 50), (115, 50), (116, 50), (117, 50), (118, 50), (119, 50), (120, 50), (121, 50), (122, 50), (123, 50), (124, 50), (125, 50), (126, 50), (127, 50), (128, 50), (129, 50), (130, 50), (131, 50), (132, 50), (133, 50), (134, 50), (135, 50), (136, 50), (137, 50), (138, 50), (139, 50), (140, 50), (141, 50), (142, 50), (143, 50), (144, 50), (145, 50), (146, 50), (147, 50), (148, 50), (149, 50), (150, 50), (151, 50), (152, 50), (153, 50), (154, 50), (155, 50), (156, 50), (157, 50), (158, 50), (159, 50), (160, 50), (161, 50), (162, 50), (163, 50), (164, 50), (165, 50), (166, 50), (167, 50), (168, 50), (169, 50), (170, 50), (171, 50), (172, 50), (173, 50), (174, 50), (175, 50), (175, 51), (175, 52), (175, 53), (175, 54), (175, 55), (175, 56), (175, 57), (175, 58), (175, 59), (175, 60), (175, 61), (175, 62), (175, 63), (175, 64), (175, 65), (175, 66), (175, 67), (175, 68), (175, 69), (175, 70), (175, 71), (175, 72), (175, 73), (175, 74), (175, 75), (175, 76), (175, 77), (175, 78), (175, 79), (175, 80), (175, 81), (175, 82), (175, 83), (175, 84), (175, 85), (175, 86), (175, 87), (175, 88), (175, 89), (175, 90), (175, 91), (175, 92), (175, 93), (175, 94), (175, 95), (175, 96), (175, 97), (175, 98), (175, 99), (175, 100), (175, 101), (175, 102), (175, 103), (175, 104), (175, 105), (175, 106), (175, 107), (175, 108), (175, 109), (175, 110), (175, 111), (175, 112), (175, 113), (175, 114), (175, 115), (175, 116), (175, 117), (175, 118), (175, 119), (175, 120), (175, 121), (175, 122), (175, 123), (175, 124), (175, 125), (175, 126), (175, 127), (175, 128), (175, 129), (175, 130), (175, 131), (175, 132), (175, 133), (175, 134), (175, 135), (175, 136), (175, 137), (175, 138), (175, 139), (175, 140), (175, 141), (175, 142), (175, 143), (175, 144), (175, 145), (175, 146), (175, 147), (175, 148), (175, 149), (175, 150), (175, 151), (175, 152), (175, 153), (175, 154), (175, 155), (175, 156), (175, 157), (175, 158), (175, 159), (175, 160), (175, 161), (175, 162), (175, 163), (175, 164), (175, 165), (175, 166), (175, 167), (175, 168), (175, 169), (175, 170), (175, 171), (175, 172), (175, 173), (175, 174), (175, 175)]\n",
      "[0, 0, 0, 0, 0, 0, 0, 0, 0, 0, 0, 0, 0, 0, 0, 0, 0, 0, 0, 0, 0, 0, 0, 0, 0, 0, 0, 0, 0, 0, 0, 0, 0, 0, 0, 0, 0, 0, 0, 0, 0, 0, 0, 0, 0, 0, 0, 0, 0, 0, 0, 0, 0, 0, 0, 0, 0, 0, 0, 0, 0, 0, 0, 0, 0, 0, 0, 0, 0, 0, 0, 0, 0, 0, 0, 0, 0, 0, 0, 0, 0, 0, 0, 0, 0, 0, 0, 0, 0, 0, 0, 0, 0, 0, 0, 0, 0, 0, 0, 0, 0, 0, 0, 0, 0, 0, 0, 0, 0, 0, 0, 0, 0, 0, 0, 0, 0, 0, 0, 0, 0, 0, 0, 0, 0, 1, 1, 1, 1, 1, 1, 1, 1, 1, 1, 1, 1, 1, 1, 1, 1, 1, 1, 1, 1, 1, 1, 1, 1, 1, 1, 1, 1, 1, 1, 1, 1, 1, 1, 1, 1, 1, 1, 1, 1, 1, 1, 1, 1, 1, 1, 1, 1, 1, 1, 1, 1, 1, 1, 1, 1, 1, 1, 1, 1, 1, 1, 1, 1, 1, 1, 1, 1, 1, 1, 1, 1, 1, 1, 1, 1, 1, 1, 1, 1, 1, 1, 1, 1, 1, 1, 1, 1, 1, 1, 1, 1, 1, 1, 1, 1, 1, 1, 1, 1, 1, 1, 1, 1, 1, 1, 1, 1, 1, 1, 1, 1, 1, 1, 1, 1, 1, 1, 1, 1, 1, 1, 1, 1, 1]\n",
      "[0, 0, 0, 0, 0, 0, 0, 0, 0, 0, 0, 0, 0, 0, 0, 0, 0, 0, 0, 0, 0, 0, 0, 0, 0, 0, 0, 0, 0, 0, 0, 0, 0, 0, 0, 0, 0, 0, 0, 0, 0, 0, 0, 0, 0, 0, 0, 0, 0, 0, 0, 0, 0, 0, 0, 0, 0, 0, 0, 0, 0, 0, 0, 0, 0, 0, 0, 0, 0, 0, 0, 0, 0, 0, 0, 0, 0, 0, 0, 0, 0, 0, 0, 0, 0, 0, 0, 0, 0, 0, 0, 0, 0, 0, 0, 0, 0, 0, 0, 0, 0, 0, 0, 0, 0, 0, 0, 0, 0, 0, 0, 0, 0, 0, 0, 0, 0, 0, 0, 0, 0, 0, 0, 0, 0, 1, 0, 0, 0, 0, 0, 0, 0, 0, 0, 0, 0, 0, 0, 0, 0, 0, 0, 0, 0, 0, 0, 0, 0, 0, 0, 0, 0, 0, 0, 0, 0, 0, 0, 0, 0, 0, 0, 0, 0, 0, 0, 0, 0, 0, 0, 0, 0, 0, 0, 0, 0, 0, 0, 0, 0, 0, 0, 0, 0, 0, 0, 0, 0, 0, 0, 0, 0, 0, 0, 0, 0, 0, 0, 0, 0, 0, 0, 0, 0, 0, 0, 0, 0, 0, 0, 0, 0, 0, 0, 0, 0, 0, 0, 0, 0, 0, 0, 0, 0, 0, 0, 0, 0, 0, 0, 0, 0, 0, 0, 0, 0, 0, 0, 0, 0, 0, 0, 0, 0, 0, 0, 0, 0, 0]\n"
     ]
    }
   ],
   "source": [
    "print(path)\n",
    "print(path_convert(path, (50, 50), 0))"
   ]
  },
  {
   "cell_type": "code",
   "execution_count": 32,
   "metadata": {},
   "outputs": [
    {
     "name": "stdout",
     "output_type": "stream",
     "text": [
      "3\n"
     ]
    }
   ],
   "source": [
    "print(-1%4)"
   ]
  },
  {
   "cell_type": "code",
   "execution_count": 29,
   "metadata": {},
   "outputs": [
    {
     "name": "stdout",
     "output_type": "stream",
     "text": [
      "0 0 1 1\n",
      "0 0 2 1\n",
      "0 1 3 1\n"
     ]
    },
    {
     "ename": "ValueError",
     "evalue": "zero-size array to reduction operation maximum which has no identity",
     "output_type": "error",
     "traceback": [
      "\u001b[1;31m---------------------------------------------------------------------------\u001b[0m",
      "\u001b[1;31mValueError\u001b[0m                                Traceback (most recent call last)",
      "Cell \u001b[1;32mIn[29], line 1\u001b[0m\n\u001b[1;32m----> 1\u001b[0m env_copy \u001b[38;5;241m=\u001b[39m \u001b[43menv_enhancement\u001b[49m\u001b[43m(\u001b[49m\u001b[43menv\u001b[49m\u001b[43m)\u001b[49m\n\u001b[0;32m      2\u001b[0m \u001b[38;5;28mprint\u001b[39m(np\u001b[38;5;241m.\u001b[39msum(env))\n\u001b[0;32m      3\u001b[0m \u001b[38;5;28mprint\u001b[39m(np\u001b[38;5;241m.\u001b[39msum(env_copy))\n",
      "Cell \u001b[1;32mIn[28], line 11\u001b[0m, in \u001b[0;36menv_enhancement\u001b[1;34m(env)\u001b[0m\n\u001b[0;32m      9\u001b[0m         \u001b[38;5;28mprint\u001b[39m(down, left, right, up)\n\u001b[0;32m     10\u001b[0m         surrounding \u001b[38;5;241m=\u001b[39m env[down:up][left:right]\n\u001b[1;32m---> 11\u001b[0m         env_copy[x][y] \u001b[38;5;241m=\u001b[39m \u001b[43mnp\u001b[49m\u001b[38;5;241;43m.\u001b[39;49m\u001b[43mmax\u001b[49m\u001b[43m(\u001b[49m\u001b[43msurrounding\u001b[49m\u001b[43m)\u001b[49m\n\u001b[0;32m     12\u001b[0m \u001b[38;5;28;01mreturn\u001b[39;00m env_copy\n",
      "File \u001b[1;32mc:\\Python311\\Lib\\site-packages\\numpy\\core\\fromnumeric.py:2810\u001b[0m, in \u001b[0;36mmax\u001b[1;34m(a, axis, out, keepdims, initial, where)\u001b[0m\n\u001b[0;32m   2692\u001b[0m \u001b[38;5;129m@array_function_dispatch\u001b[39m(_max_dispatcher)\n\u001b[0;32m   2693\u001b[0m \u001b[38;5;129m@set_module\u001b[39m(\u001b[38;5;124m'\u001b[39m\u001b[38;5;124mnumpy\u001b[39m\u001b[38;5;124m'\u001b[39m)\n\u001b[0;32m   2694\u001b[0m \u001b[38;5;28;01mdef\u001b[39;00m \u001b[38;5;21mmax\u001b[39m(a, axis\u001b[38;5;241m=\u001b[39m\u001b[38;5;28;01mNone\u001b[39;00m, out\u001b[38;5;241m=\u001b[39m\u001b[38;5;28;01mNone\u001b[39;00m, keepdims\u001b[38;5;241m=\u001b[39mnp\u001b[38;5;241m.\u001b[39m_NoValue, initial\u001b[38;5;241m=\u001b[39mnp\u001b[38;5;241m.\u001b[39m_NoValue,\n\u001b[0;32m   2695\u001b[0m          where\u001b[38;5;241m=\u001b[39mnp\u001b[38;5;241m.\u001b[39m_NoValue):\n\u001b[0;32m   2696\u001b[0m \u001b[38;5;250m    \u001b[39m\u001b[38;5;124;03m\"\"\"\u001b[39;00m\n\u001b[0;32m   2697\u001b[0m \u001b[38;5;124;03m    Return the maximum of an array or maximum along an axis.\u001b[39;00m\n\u001b[0;32m   2698\u001b[0m \n\u001b[1;32m   (...)\u001b[0m\n\u001b[0;32m   2808\u001b[0m \u001b[38;5;124;03m    5\u001b[39;00m\n\u001b[0;32m   2809\u001b[0m \u001b[38;5;124;03m    \"\"\"\u001b[39;00m\n\u001b[1;32m-> 2810\u001b[0m     \u001b[38;5;28;01mreturn\u001b[39;00m \u001b[43m_wrapreduction\u001b[49m\u001b[43m(\u001b[49m\u001b[43ma\u001b[49m\u001b[43m,\u001b[49m\u001b[43m \u001b[49m\u001b[43mnp\u001b[49m\u001b[38;5;241;43m.\u001b[39;49m\u001b[43mmaximum\u001b[49m\u001b[43m,\u001b[49m\u001b[43m \u001b[49m\u001b[38;5;124;43m'\u001b[39;49m\u001b[38;5;124;43mmax\u001b[39;49m\u001b[38;5;124;43m'\u001b[39;49m\u001b[43m,\u001b[49m\u001b[43m \u001b[49m\u001b[43maxis\u001b[49m\u001b[43m,\u001b[49m\u001b[43m \u001b[49m\u001b[38;5;28;43;01mNone\u001b[39;49;00m\u001b[43m,\u001b[49m\u001b[43m \u001b[49m\u001b[43mout\u001b[49m\u001b[43m,\u001b[49m\n\u001b[0;32m   2811\u001b[0m \u001b[43m                          \u001b[49m\u001b[43mkeepdims\u001b[49m\u001b[38;5;241;43m=\u001b[39;49m\u001b[43mkeepdims\u001b[49m\u001b[43m,\u001b[49m\u001b[43m \u001b[49m\u001b[43minitial\u001b[49m\u001b[38;5;241;43m=\u001b[39;49m\u001b[43minitial\u001b[49m\u001b[43m,\u001b[49m\u001b[43m \u001b[49m\u001b[43mwhere\u001b[49m\u001b[38;5;241;43m=\u001b[39;49m\u001b[43mwhere\u001b[49m\u001b[43m)\u001b[49m\n",
      "File \u001b[1;32mc:\\Python311\\Lib\\site-packages\\numpy\\core\\fromnumeric.py:88\u001b[0m, in \u001b[0;36m_wrapreduction\u001b[1;34m(obj, ufunc, method, axis, dtype, out, **kwargs)\u001b[0m\n\u001b[0;32m     85\u001b[0m         \u001b[38;5;28;01melse\u001b[39;00m:\n\u001b[0;32m     86\u001b[0m             \u001b[38;5;28;01mreturn\u001b[39;00m reduction(axis\u001b[38;5;241m=\u001b[39maxis, out\u001b[38;5;241m=\u001b[39mout, \u001b[38;5;241m*\u001b[39m\u001b[38;5;241m*\u001b[39mpasskwargs)\n\u001b[1;32m---> 88\u001b[0m \u001b[38;5;28;01mreturn\u001b[39;00m \u001b[43mufunc\u001b[49m\u001b[38;5;241;43m.\u001b[39;49m\u001b[43mreduce\u001b[49m\u001b[43m(\u001b[49m\u001b[43mobj\u001b[49m\u001b[43m,\u001b[49m\u001b[43m \u001b[49m\u001b[43maxis\u001b[49m\u001b[43m,\u001b[49m\u001b[43m \u001b[49m\u001b[43mdtype\u001b[49m\u001b[43m,\u001b[49m\u001b[43m \u001b[49m\u001b[43mout\u001b[49m\u001b[43m,\u001b[49m\u001b[43m \u001b[49m\u001b[38;5;241;43m*\u001b[39;49m\u001b[38;5;241;43m*\u001b[39;49m\u001b[43mpasskwargs\u001b[49m\u001b[43m)\u001b[49m\n",
      "\u001b[1;31mValueError\u001b[0m: zero-size array to reduction operation maximum which has no identity"
     ]
    }
   ],
   "source": [
    "env_copy = env_enhancement(env)\n",
    "print(np.sum(env))\n",
    "print(np.sum(env_copy))"
   ]
  }
 ],
 "metadata": {
  "kernelspec": {
   "display_name": "Python 3",
   "language": "python",
   "name": "python3"
  },
  "language_info": {
   "codemirror_mode": {
    "name": "ipython",
    "version": 3
   },
   "file_extension": ".py",
   "mimetype": "text/x-python",
   "name": "python",
   "nbconvert_exporter": "python",
   "pygments_lexer": "ipython3",
   "version": "3.9.2"
  }
 },
 "nbformat": 4,
 "nbformat_minor": 2
}
